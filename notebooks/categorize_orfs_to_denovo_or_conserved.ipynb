{
 "cells": [
  {
   "cell_type": "code",
   "execution_count": 2,
   "metadata": {},
   "outputs": [
    {
     "name": "stderr",
     "output_type": "stream",
     "text": [
      "── \u001b[1mAttaching pa\u001b[22m\n",
      "\n",
      "\u001b[32m✔\u001b[39m \u001b[34mggplot2\u001b[39m 3.3.5     \u001b[32m✔\u001b[39m \u001b[34mpurrr  \u001b[39m 0.3.4\n",
      "\u001b[32m✔\u001b[39m \u001b[34mtibble \u001b[39m 3.1.6     \u001b[32m✔\u001b[39m \u001b[34mdplyr  \u001b[39m 1.0.7\n",
      "\u001b[32m✔\u001b[39m \u001b[34mtidyr  \u001b[39m 1.2.0     \u001b[32m✔\u001b[39m \u001b[34mstringr\u001b[39m 1.4.0\n",
      "\u001b[32m✔\u001b[39m \u001b[34mreadr  \u001b[39m 2.1.2     \u001b[32m✔\u001b[39m \u001b[34mforcats\u001b[39m 0.5.1\n",
      "\n",
      "── \u001b[1mConflicts\u001b[22m ──\n",
      "\u001b[31m✖\u001b[39m \u001b[34mdplyr\u001b[39m::\u001b[32mfilter()\u001b[39m masks \u001b[34mstats\u001b[39m::filter()\n",
      "\u001b[31m✖\u001b[39m \u001b[34mdplyr\u001b[39m::\u001b[32mlag()\u001b[39m    masks \u001b[34mstats\u001b[39m::lag()\n",
      "\n"
     ]
    }
   ],
   "source": [
    "library(tidyverse)"
   ]
  },
  {
   "cell_type": "code",
   "execution_count": 84,
   "metadata": {},
   "outputs": [],
   "source": [
    "con = DBI::dbConnect(RMariaDB::MariaDB(), groups='mariaDB')"
   ]
  },
  {
   "cell_type": "code",
   "execution_count": 4,
   "metadata": {},
   "outputs": [],
   "source": [
    "carly_orfs = DBI::dbGetQuery(con, \"select * from CARVUNIS_YEAST.carly_orfs a\n",
    "LEFT JOIN CARVUNIS_YEAST.orf_ids_crossmap b\n",
    "ON a.orf_id=b.orf_id\n",
    "LEFT JOIN aaron.scer_orfs_translation_info c\n",
    "ON b.aaron_orfid=c.orf_id\n",
    "LEFT JOIN (SELECT orf_id, high_information FROM aaron.scer_orfs_translation_info_100722) d\n",
    "ON c.orf_id=d.orf_id\n",
    "where a.chromosome!='chrmt' AND c.orf_class!='orf_class'\")%>%distinct()"
   ]
  },
  {
   "cell_type": "code",
   "execution_count": 5,
   "metadata": {},
   "outputs": [],
   "source": [
    "blastp_all_by_all = data.table::fread(\"/home/oma21/coexpression/data/interim/blast_files/blast_results/s288c_blastp/scer_all_orfs_by_all_orfs.blast\")%>%separate(V1, sep=\"::\", into = c(\"orf_id\",'coords'))%>%\n",
    "    separate(V2, sep=\"::\", into = c(\"hit_orf_id\",'hit_coords'))%>%filter(orf_id!=hit_orf_id)"
   ]
  },
  {
   "cell_type": "code",
   "execution_count": 6,
   "metadata": {},
   "outputs": [],
   "source": [
    "blastp_vs_yeasts_files = list.files(\"/home/acwach/YeastTest/blastp\")"
   ]
  },
  {
   "cell_type": "code",
   "execution_count": 7,
   "metadata": {},
   "outputs": [],
   "source": [
    "blastp_vs_yeasts = map(blastp_vs_yeasts_files, function(x) data.table::fread(paste0(\"/home/acwach/YeastTest/blastp/\",x))%>%mutate(filename=x))%>%data.table::rbindlist()"
   ]
  },
  {
   "cell_type": "code",
   "execution_count": 8,
   "metadata": {},
   "outputs": [],
   "source": [
    "blastp_vs_yeasts = blastp_vs_yeasts%>%separate(V1,c('chr','start','end','strand'), sep='_', convert=T)%>%\n",
    "    mutate(chr=chr+1, start=start+1, end=end+1, strand = ifelse(strand==0, '+','-'),\n",
    "          orf_coord_id = paste0(chr,'_',start,'_',end,'_',strand))%>%\n",
    "    group_by(orf_coord_id)%>%filter(V11==min(V11))%>%ungroup()%>%distinct(orf_coord_id, V11)"
   ]
  },
  {
   "cell_type": "code",
   "execution_count": 9,
   "metadata": {
    "tags": []
   },
   "outputs": [
    {
     "data": {
      "text/plain": [
       ".\n",
       "                  Dubious                      None                pseudogene \n",
       "                      676                    260359                         9 \n",
       "transposable_element_gene           Uncharacterized                  Verified \n",
       "                       47                       698                      4922 "
      ]
     },
     "metadata": {},
     "output_type": "display_data"
    }
   ],
   "source": [
    "carly_orfs%>%select(orf_class)%>%table"
   ]
  },
  {
   "cell_type": "code",
   "execution_count": 16,
   "metadata": {},
   "outputs": [],
   "source": [
    "aaron_table = DBI::dbGetQuery(con, \"select * from aaron.scer_orfs_translation_info\")"
   ]
  },
  {
   "cell_type": "code",
   "execution_count": 17,
   "metadata": {},
   "outputs": [
    {
     "data": {
      "text/html": [
       "<style>\n",
       ".list-inline {list-style: none; margin:0; padding: 0}\n",
       ".list-inline>li {display: inline-block}\n",
       ".list-inline>li:not(:last-child)::after {content: \"\\00b7\"; padding: 0 .5ex}\n",
       "</style>\n",
       "<ol class=list-inline><li>'orf_id'</li><li>'chr'</li><li>'first_coord'</li><li>'second_coord'</li><li>'strand'</li><li>'gene_systematic_name'</li><li>'orf_class'</li><li>'length'</li><li>'rfc'</li><li>'coding_score'</li><li>'scer_gene_eval'</li><li>'distant_homolog_evalue'</li><li>'is_intergenic'</li><li>'evolutionary_class'</li><li>'up_extend_gene'</li><li>'is_candidate'</li><li>'pval'</li><li>'qval'</li><li>'ribo_reads'</li><li>'chx_plus_pval'</li><li>'chx_minus_pval'</li><li>'ypd_media_pval'</li><li>'sd_media_pval'</li><li>'ypd_chx_minus_pval'</li><li>'chx_plus_reads'</li><li>'chx_minus_reads'</li><li>'ypd_media_reads'</li><li>'sd_media_reads'</li><li>'ypd_chx_minus_reads'</li><li>'sense_verified_overlap'</li><li>'sense_unchar_overlap'</li><li>'sense_dubious_overlap'</li><li>'sense_pseudogene_overlap'</li><li>'sense_te_overlap'</li><li>'sense_blocked_overlap'</li><li>'anti_verified_overlap'</li><li>'anti_unchar_overlap'</li><li>'anti_dubious_overlap'</li><li>'anti_pseudogene_overlap'</li><li>'anti_te_overlap'</li><li>'anti_blocked_overlap'</li><li>'tRNA_overlap'</li><li>'ltr_overlap'</li><li>'snoRNA_overlap'</li><li>'ars_overlap'</li><li>'sn_overlap'</li><li>'ncRNA_overlap'</li><li>'neighbor1'</li><li>' neighbor1_dist'</li><li>'neighbor2'</li><li>'neighbor2_dist'</li><li>'start_codon_overlap'</li><li>'stop_codon_overlap'</li><li>'orf_coord_id'</li><li>'use_blast0'</li><li>'use_blast1'</li><li>'use_blast2'</li><li>'use_blast3'</li><li>'use_blast4'</li><li>'use_blast5'</li><li>'use_blast6'</li><li>'use_blast7'</li><li>'good_homology1'</li><li>'good_homology2'</li><li>'good_homology3'</li><li>'good_homology4'</li><li>'good_homology5'</li><li>'good_homology6'</li><li>'good_homology7'</li><li>'high_information'</li><li>'num_orthologs'</li><li>'rfc0'</li><li>'rfc1'</li><li>'rfc2'</li><li>'rfc3'</li><li>'rfc4'</li><li>'rfc5'</li><li>'rfc6'</li></ol>\n"
      ],
      "text/latex": [
       "\\begin{enumerate*}\n",
       "\\item 'orf\\_id'\n",
       "\\item 'chr'\n",
       "\\item 'first\\_coord'\n",
       "\\item 'second\\_coord'\n",
       "\\item 'strand'\n",
       "\\item 'gene\\_systematic\\_name'\n",
       "\\item 'orf\\_class'\n",
       "\\item 'length'\n",
       "\\item 'rfc'\n",
       "\\item 'coding\\_score'\n",
       "\\item 'scer\\_gene\\_eval'\n",
       "\\item 'distant\\_homolog\\_evalue'\n",
       "\\item 'is\\_intergenic'\n",
       "\\item 'evolutionary\\_class'\n",
       "\\item 'up\\_extend\\_gene'\n",
       "\\item 'is\\_candidate'\n",
       "\\item 'pval'\n",
       "\\item 'qval'\n",
       "\\item 'ribo\\_reads'\n",
       "\\item 'chx\\_plus\\_pval'\n",
       "\\item 'chx\\_minus\\_pval'\n",
       "\\item 'ypd\\_media\\_pval'\n",
       "\\item 'sd\\_media\\_pval'\n",
       "\\item 'ypd\\_chx\\_minus\\_pval'\n",
       "\\item 'chx\\_plus\\_reads'\n",
       "\\item 'chx\\_minus\\_reads'\n",
       "\\item 'ypd\\_media\\_reads'\n",
       "\\item 'sd\\_media\\_reads'\n",
       "\\item 'ypd\\_chx\\_minus\\_reads'\n",
       "\\item 'sense\\_verified\\_overlap'\n",
       "\\item 'sense\\_unchar\\_overlap'\n",
       "\\item 'sense\\_dubious\\_overlap'\n",
       "\\item 'sense\\_pseudogene\\_overlap'\n",
       "\\item 'sense\\_te\\_overlap'\n",
       "\\item 'sense\\_blocked\\_overlap'\n",
       "\\item 'anti\\_verified\\_overlap'\n",
       "\\item 'anti\\_unchar\\_overlap'\n",
       "\\item 'anti\\_dubious\\_overlap'\n",
       "\\item 'anti\\_pseudogene\\_overlap'\n",
       "\\item 'anti\\_te\\_overlap'\n",
       "\\item 'anti\\_blocked\\_overlap'\n",
       "\\item 'tRNA\\_overlap'\n",
       "\\item 'ltr\\_overlap'\n",
       "\\item 'snoRNA\\_overlap'\n",
       "\\item 'ars\\_overlap'\n",
       "\\item 'sn\\_overlap'\n",
       "\\item 'ncRNA\\_overlap'\n",
       "\\item 'neighbor1'\n",
       "\\item ' neighbor1\\_dist'\n",
       "\\item 'neighbor2'\n",
       "\\item 'neighbor2\\_dist'\n",
       "\\item 'start\\_codon\\_overlap'\n",
       "\\item 'stop\\_codon\\_overlap'\n",
       "\\item 'orf\\_coord\\_id'\n",
       "\\item 'use\\_blast0'\n",
       "\\item 'use\\_blast1'\n",
       "\\item 'use\\_blast2'\n",
       "\\item 'use\\_blast3'\n",
       "\\item 'use\\_blast4'\n",
       "\\item 'use\\_blast5'\n",
       "\\item 'use\\_blast6'\n",
       "\\item 'use\\_blast7'\n",
       "\\item 'good\\_homology1'\n",
       "\\item 'good\\_homology2'\n",
       "\\item 'good\\_homology3'\n",
       "\\item 'good\\_homology4'\n",
       "\\item 'good\\_homology5'\n",
       "\\item 'good\\_homology6'\n",
       "\\item 'good\\_homology7'\n",
       "\\item 'high\\_information'\n",
       "\\item 'num\\_orthologs'\n",
       "\\item 'rfc0'\n",
       "\\item 'rfc1'\n",
       "\\item 'rfc2'\n",
       "\\item 'rfc3'\n",
       "\\item 'rfc4'\n",
       "\\item 'rfc5'\n",
       "\\item 'rfc6'\n",
       "\\end{enumerate*}\n"
      ],
      "text/markdown": [
       "1. 'orf_id'\n",
       "2. 'chr'\n",
       "3. 'first_coord'\n",
       "4. 'second_coord'\n",
       "5. 'strand'\n",
       "6. 'gene_systematic_name'\n",
       "7. 'orf_class'\n",
       "8. 'length'\n",
       "9. 'rfc'\n",
       "10. 'coding_score'\n",
       "11. 'scer_gene_eval'\n",
       "12. 'distant_homolog_evalue'\n",
       "13. 'is_intergenic'\n",
       "14. 'evolutionary_class'\n",
       "15. 'up_extend_gene'\n",
       "16. 'is_candidate'\n",
       "17. 'pval'\n",
       "18. 'qval'\n",
       "19. 'ribo_reads'\n",
       "20. 'chx_plus_pval'\n",
       "21. 'chx_minus_pval'\n",
       "22. 'ypd_media_pval'\n",
       "23. 'sd_media_pval'\n",
       "24. 'ypd_chx_minus_pval'\n",
       "25. 'chx_plus_reads'\n",
       "26. 'chx_minus_reads'\n",
       "27. 'ypd_media_reads'\n",
       "28. 'sd_media_reads'\n",
       "29. 'ypd_chx_minus_reads'\n",
       "30. 'sense_verified_overlap'\n",
       "31. 'sense_unchar_overlap'\n",
       "32. 'sense_dubious_overlap'\n",
       "33. 'sense_pseudogene_overlap'\n",
       "34. 'sense_te_overlap'\n",
       "35. 'sense_blocked_overlap'\n",
       "36. 'anti_verified_overlap'\n",
       "37. 'anti_unchar_overlap'\n",
       "38. 'anti_dubious_overlap'\n",
       "39. 'anti_pseudogene_overlap'\n",
       "40. 'anti_te_overlap'\n",
       "41. 'anti_blocked_overlap'\n",
       "42. 'tRNA_overlap'\n",
       "43. 'ltr_overlap'\n",
       "44. 'snoRNA_overlap'\n",
       "45. 'ars_overlap'\n",
       "46. 'sn_overlap'\n",
       "47. 'ncRNA_overlap'\n",
       "48. 'neighbor1'\n",
       "49. ' neighbor1_dist'\n",
       "50. 'neighbor2'\n",
       "51. 'neighbor2_dist'\n",
       "52. 'start_codon_overlap'\n",
       "53. 'stop_codon_overlap'\n",
       "54. 'orf_coord_id'\n",
       "55. 'use_blast0'\n",
       "56. 'use_blast1'\n",
       "57. 'use_blast2'\n",
       "58. 'use_blast3'\n",
       "59. 'use_blast4'\n",
       "60. 'use_blast5'\n",
       "61. 'use_blast6'\n",
       "62. 'use_blast7'\n",
       "63. 'good_homology1'\n",
       "64. 'good_homology2'\n",
       "65. 'good_homology3'\n",
       "66. 'good_homology4'\n",
       "67. 'good_homology5'\n",
       "68. 'good_homology6'\n",
       "69. 'good_homology7'\n",
       "70. 'high_information'\n",
       "71. 'num_orthologs'\n",
       "72. 'rfc0'\n",
       "73. 'rfc1'\n",
       "74. 'rfc2'\n",
       "75. 'rfc3'\n",
       "76. 'rfc4'\n",
       "77. 'rfc5'\n",
       "78. 'rfc6'\n",
       "\n",
       "\n"
      ],
      "text/plain": [
       " [1] \"orf_id\"                   \"chr\"                     \n",
       " [3] \"first_coord\"              \"second_coord\"            \n",
       " [5] \"strand\"                   \"gene_systematic_name\"    \n",
       " [7] \"orf_class\"                \"length\"                  \n",
       " [9] \"rfc\"                      \"coding_score\"            \n",
       "[11] \"scer_gene_eval\"           \"distant_homolog_evalue\"  \n",
       "[13] \"is_intergenic\"            \"evolutionary_class\"      \n",
       "[15] \"up_extend_gene\"           \"is_candidate\"            \n",
       "[17] \"pval\"                     \"qval\"                    \n",
       "[19] \"ribo_reads\"               \"chx_plus_pval\"           \n",
       "[21] \"chx_minus_pval\"           \"ypd_media_pval\"          \n",
       "[23] \"sd_media_pval\"            \"ypd_chx_minus_pval\"      \n",
       "[25] \"chx_plus_reads\"           \"chx_minus_reads\"         \n",
       "[27] \"ypd_media_reads\"          \"sd_media_reads\"          \n",
       "[29] \"ypd_chx_minus_reads\"      \"sense_verified_overlap\"  \n",
       "[31] \"sense_unchar_overlap\"     \"sense_dubious_overlap\"   \n",
       "[33] \"sense_pseudogene_overlap\" \"sense_te_overlap\"        \n",
       "[35] \"sense_blocked_overlap\"    \"anti_verified_overlap\"   \n",
       "[37] \"anti_unchar_overlap\"      \"anti_dubious_overlap\"    \n",
       "[39] \"anti_pseudogene_overlap\"  \"anti_te_overlap\"         \n",
       "[41] \"anti_blocked_overlap\"     \"tRNA_overlap\"            \n",
       "[43] \"ltr_overlap\"              \"snoRNA_overlap\"          \n",
       "[45] \"ars_overlap\"              \"sn_overlap\"              \n",
       "[47] \"ncRNA_overlap\"            \"neighbor1\"               \n",
       "[49] \" neighbor1_dist\"          \"neighbor2\"               \n",
       "[51] \"neighbor2_dist\"           \"start_codon_overlap\"     \n",
       "[53] \"stop_codon_overlap\"       \"orf_coord_id\"            \n",
       "[55] \"use_blast0\"               \"use_blast1\"              \n",
       "[57] \"use_blast2\"               \"use_blast3\"              \n",
       "[59] \"use_blast4\"               \"use_blast5\"              \n",
       "[61] \"use_blast6\"               \"use_blast7\"              \n",
       "[63] \"good_homology1\"           \"good_homology2\"          \n",
       "[65] \"good_homology3\"           \"good_homology4\"          \n",
       "[67] \"good_homology5\"           \"good_homology6\"          \n",
       "[69] \"good_homology7\"           \"high_information\"        \n",
       "[71] \"num_orthologs\"            \"rfc0\"                    \n",
       "[73] \"rfc1\"                     \"rfc2\"                    \n",
       "[75] \"rfc3\"                     \"rfc4\"                    \n",
       "[77] \"rfc5\"                     \"rfc6\"                    "
      ]
     },
     "metadata": {},
     "output_type": "display_data"
    }
   ],
   "source": [
    "colnames(aaron_table)"
   ]
  },
  {
   "cell_type": "code",
   "execution_count": 22,
   "metadata": {},
   "outputs": [],
   "source": [
    "aaron_denovo_parsimony =aaron_table%>%rename(rfc_spar = rfc0, \n",
    "                                                                                                    rfc_smik = rfc1,\n",
    "                                                                                                    rfc_sjur = rfc2,\n",
    "                                                                                                    rfc_skud = rfc3,\n",
    "                                                                                                    rfc_sarb = rfc4,\n",
    "                                                                                                    rfc_sbay = rfc5,\n",
    "                                                                                                    rfc_seub = rfc6,\n",
    "                                                                                                    good_homology_spar = good_homology1,\n",
    "                                                                                                    good_homology_smik = good_homology2,\n",
    "                                                                                                     good_homology_sjur = good_homology3,\n",
    "                                                                                                     good_homology_skud = good_homology4,\n",
    "                                                                                                     good_homology_sarb = good_homology5,\n",
    "                                                                                                     good_homology_sbay = good_homology6,\n",
    "                                                                                                     good_homology_seub = good_homology7,\n",
    "                                                                                                    )%>%\n",
    "select(-rfc_sjur, -good_homology_sjur)%>%group_by(orf_id)%>%\n",
    "mutate(rfc_sbay_combined = case_when(good_homology_seub==1 & good_homology_sbay==1 ~ max(rfc_sbay,rfc_seub),\n",
    "                                     good_homology_seub==1 & good_homology_sbay!=1 ~ rfc_seub,\n",
    "                                     good_homology_seub!=1 & good_homology_sbay==1 ~ rfc_sbay,\n",
    "                                     good_homology_seub!=1 & good_homology_sbay!=1 ~ -1\n",
    "                                 ))%>%ungroup()%>%\n",
    "    mutate(proven_denovo= case_when(\n",
    "        rfc_sbay_combined <.6 & rfc_sarb <.6 & rfc_sbay_combined!=-1 & good_homology_sarb==1  ~ TRUE,\n",
    "        rfc_sbay_combined==-1 & rfc_sarb<0.6 & rfc_skud <0.6 & good_homology_sarb==1 & good_homology_skud==1 ~ TRUE,\n",
    "        rfc_sbay_combined==-1 &  good_homology_sarb==0 & rfc_skud <0.6 & good_homology_skud==1 & rfc_smik <0.6 & good_homology_smik==1 ~ TRUE,\n",
    "        rfc_sbay_combined==-1 & good_homology_sarb==0 & good_homology_skud==0 & rfc_smik <0.6 & good_homology_smik==1 & rfc_spar<0.6 & good_homology_spar==1  ~ TRUE,\n",
    "        TRUE ~ FALSE\n",
    "    ))%>%\n",
    "    select(orf_id, proven_denovo)"
   ]
  },
  {
   "cell_type": "code",
   "execution_count": 23,
   "metadata": {},
   "outputs": [],
   "source": [
    "carly_orfs_with_parsimony = carly_orfs%>%\n",
    "    left_join(aaron_denovo_parsimony[,c('orf_id','proven_denovo')], by=c('aaron_orfid'='orf_id'))%>%\n",
    "    mutate(\n",
    "        transcript = sprintf(\"chr%s_%i\", chr, first_coord),\n",
    "        gene = case_when(\n",
    "          gene_systematic_name != \"X\" ~ gene_systematic_name,\n",
    "          up_extend_gene != \"X\" ~ up_extend_gene\n",
    "        )\n",
    "      )%>%#left_join(blastp_results_min, by=c('orf_id'='orf_id'))%>%\n",
    "        left_join(blastp_vs_yeasts, by=c(\"orf_coord_id\"=\"orf_coord_id\"))%>%mutate(distant_homolog_blastp_eval = V11)%>%\n",
    "        select(-V11) %>%\n",
    "        mutate(distant_homolog_blastp_eval = ifelse(is.na(distant_homolog_blastp_eval), 100, distant_homolog_blastp_eval))%>%\n",
    "        left_join(blastp_all_by_all%>%group_by(orf_id)%>%summarise(blastp_against_scer_orfs_eval = min(V11))%>%ungroup()%>%distinct(orf_id,blastp_against_scer_orfs_eval),\n",
    "                           by=c(\"orf_id\"=\"orf_id\"))%>%mutate(blastp_against_scer_orfs_eval = replace_na(blastp_against_scer_orfs_eval, 100))\n",
    "\n"
   ]
  },
  {
   "cell_type": "code",
   "execution_count": 10,
   "metadata": {
    "tags": []
   },
   "outputs": [],
   "source": [
    "# carly_orfs_with_parsimony%>%\n",
    "#     filter(scer_gene_eval<=1e-2 & orf_coord_id%in%blastn_with_same_coords$orf_coord_id)"
   ]
  },
  {
   "cell_type": "code",
   "execution_count": 25,
   "metadata": {},
   "outputs": [],
   "source": [
    "carly_orfs_mutated = carly_orfs_with_parsimony%>%\n",
    "    mutate(scer_gene_eval = ifelse(anti_verified_overlap==1 | anti_unchar_overlap==1 | anti_pseudogene_overlap==1 | anti_dubious_overlap==1 |anti_te_overlap==1 | anti_blocked_overlap==1, 100, scer_gene_eval),\n",
    "           distant_homolog_evalue = ifelse(anti_verified_overlap==1 | anti_unchar_overlap==1 | anti_pseudogene_overlap==1 | anti_dubious_overlap==1 |anti_te_overlap==1 | anti_blocked_overlap==1, 100, distant_homolog_evalue),\n",
    "        with_blast_hits_for_denovo = (distant_homolog_evalue<=1e-4 | scer_gene_eval <= 1e-4  | blastp_against_scer_orfs_eval <= 1e-4 | distant_homolog_blastp_eval <= 1e-4),\n",
    "           with_blast_hits_for_conserved = (distant_homolog_evalue<=1e-4  | distant_homolog_blastp_eval <= 1e-4),\n",
    "           possibly_denovo = (( with_blast_hits_for_denovo == F ) & proven_denovo==1 & qval<0.05 & is_candidate==1),\n",
    "           overlaps = rowSums(across(sense_verified_overlap:ncRNA_overlap)),\n",
    "          possibly_conserved = ((with_blast_hits_for_conserved) | (high_information==1 & rfc >=.8)) & (orf_class==\"Verified\" | orf_class=='Uncharacterized' | orf_class=='transposable_element_gene') )"
   ]
  },
  {
   "cell_type": "code",
   "execution_count": 27,
   "metadata": {},
   "outputs": [],
   "source": [
    "overlapping_annotated = DBI::dbGetQuery(con, \"select * from omer.annotated_overlap_conservation\")"
   ]
  },
  {
   "cell_type": "code",
   "execution_count": 28,
   "metadata": {},
   "outputs": [],
   "source": [
    "blast_files = list.files(\"/home/acwach/YeastTest/tblastn_outside/\",full.names = T)"
   ]
  },
  {
   "cell_type": "code",
   "execution_count": 29,
   "metadata": {},
   "outputs": [],
   "source": [
    "blast_extra = data.table::rbindlist(map(blast_files, data.table::fread))"
   ]
  },
  {
   "cell_type": "code",
   "execution_count": 30,
   "metadata": {},
   "outputs": [],
   "source": [
    "blastp_vs_yeasts_extra_files = list.files(\"/home/oma21/coexpression/data/interim/blast_files/blast_results/blastp_align/\")"
   ]
  },
  {
   "cell_type": "code",
   "execution_count": 31,
   "metadata": {},
   "outputs": [],
   "source": [
    "blastp_vs_yeasts_extra = map(blastp_vs_yeasts_extra_files, function(x) data.table::fread(paste0(\"/home/oma21/coexpression/data/interim/blast_files/blast_results/blastp_align/\",x))%>%mutate(filename=x))%>%data.table::rbindlist()"
   ]
  },
  {
   "cell_type": "code",
   "execution_count": 32,
   "metadata": {},
   "outputs": [],
   "source": [
    "blastp_vs_yeasts_extra = blastp_vs_yeasts_extra%>%\n",
    "    group_by(V1)%>%filter(V11==min(V11))%>%ungroup()%>%distinct(V1, V11)%>%select(gene=V1, V11)"
   ]
  },
  {
   "cell_type": "code",
   "execution_count": 33,
   "metadata": {},
   "outputs": [],
   "source": [
    "sc_gff = DBI::dbGetQuery(con , \"select * from CARVUNIS_YEAST.sc_gff\")"
   ]
  },
  {
   "cell_type": "code",
   "execution_count": 34,
   "metadata": {},
   "outputs": [],
   "source": [
    "gff_genes = sc_gff%>%filter(featuretype=='gene' & chromosome!='chrmt')"
   ]
  },
  {
   "cell_type": "code",
   "execution_count": 35,
   "metadata": {},
   "outputs": [
    {
     "data": {
      "text/html": [
       "6572"
      ],
      "text/latex": [
       "6572"
      ],
      "text/markdown": [
       "6572"
      ],
      "text/plain": [
       "[1] 6572"
      ]
     },
     "metadata": {},
     "output_type": "display_data"
    }
   ],
   "source": [
    "gff_genes%>%nrow"
   ]
  },
  {
   "cell_type": "code",
   "execution_count": 36,
   "metadata": {},
   "outputs": [],
   "source": [
    "missing_genes = gff_genes%>%filter(Name%in%carly_orfs_mutated$gene==FALSE)"
   ]
  },
  {
   "cell_type": "code",
   "execution_count": 37,
   "metadata": {},
   "outputs": [],
   "source": [
    "missing_genes_eval = missing_genes%>%left_join(blast_extra%>%group_by(V1)%>%summarise(strongest_hit_eval = min(V11)), by=c('Name'='V1'))%>%\n",
    "left_join(blastp_vs_yeasts_extra, by=c(\"Name\"=\"gene\"))%>%\n",
    "mutate(distant_homolog_blastp_eval = V11)%>%\n",
    "select(-V11)"
   ]
  },
  {
   "cell_type": "code",
   "execution_count": 40,
   "metadata": {},
   "outputs": [
    {
     "data": {
      "text/html": [
       "<style>\n",
       ".list-inline {list-style: none; margin:0; padding: 0}\n",
       ".list-inline>li {display: inline-block}\n",
       ".list-inline>li:not(:last-child)::after {content: \"\\00b7\"; padding: 0 .5ex}\n",
       "</style>\n",
       "<ol class=list-inline><li>'Name'</li><li>'orf_classification'</li><li>'overlapping_orf_name'</li><li>'overlapping_orf_classification'</li><li>'is_sense_overlap'</li><li>'rfc'</li><li>'overlapping_orf_rfc'</li><li>'high_information'</li><li>'overlapping_orf_high_information'</li><li>'distant_homolog_evalue'</li><li>'overlapping_orf_distant_homolog_evalue'</li><li>'strongest_nonoverlapping_eval'</li><li>'overlapping_orf_strongest_nonoverlapping_eval'</li><li>'rfc_comparison'</li><li>'nonoverlapping_blast_conservation'</li><li>'is_conserved'</li></ol>\n"
      ],
      "text/latex": [
       "\\begin{enumerate*}\n",
       "\\item 'Name'\n",
       "\\item 'orf\\_classification'\n",
       "\\item 'overlapping\\_orf\\_name'\n",
       "\\item 'overlapping\\_orf\\_classification'\n",
       "\\item 'is\\_sense\\_overlap'\n",
       "\\item 'rfc'\n",
       "\\item 'overlapping\\_orf\\_rfc'\n",
       "\\item 'high\\_information'\n",
       "\\item 'overlapping\\_orf\\_high\\_information'\n",
       "\\item 'distant\\_homolog\\_evalue'\n",
       "\\item 'overlapping\\_orf\\_distant\\_homolog\\_evalue'\n",
       "\\item 'strongest\\_nonoverlapping\\_eval'\n",
       "\\item 'overlapping\\_orf\\_strongest\\_nonoverlapping\\_eval'\n",
       "\\item 'rfc\\_comparison'\n",
       "\\item 'nonoverlapping\\_blast\\_conservation'\n",
       "\\item 'is\\_conserved'\n",
       "\\end{enumerate*}\n"
      ],
      "text/markdown": [
       "1. 'Name'\n",
       "2. 'orf_classification'\n",
       "3. 'overlapping_orf_name'\n",
       "4. 'overlapping_orf_classification'\n",
       "5. 'is_sense_overlap'\n",
       "6. 'rfc'\n",
       "7. 'overlapping_orf_rfc'\n",
       "8. 'high_information'\n",
       "9. 'overlapping_orf_high_information'\n",
       "10. 'distant_homolog_evalue'\n",
       "11. 'overlapping_orf_distant_homolog_evalue'\n",
       "12. 'strongest_nonoverlapping_eval'\n",
       "13. 'overlapping_orf_strongest_nonoverlapping_eval'\n",
       "14. 'rfc_comparison'\n",
       "15. 'nonoverlapping_blast_conservation'\n",
       "16. 'is_conserved'\n",
       "\n",
       "\n"
      ],
      "text/plain": [
       " [1] \"Name\"                                         \n",
       " [2] \"orf_classification\"                           \n",
       " [3] \"overlapping_orf_name\"                         \n",
       " [4] \"overlapping_orf_classification\"               \n",
       " [5] \"is_sense_overlap\"                             \n",
       " [6] \"rfc\"                                          \n",
       " [7] \"overlapping_orf_rfc\"                          \n",
       " [8] \"high_information\"                             \n",
       " [9] \"overlapping_orf_high_information\"             \n",
       "[10] \"distant_homolog_evalue\"                       \n",
       "[11] \"overlapping_orf_distant_homolog_evalue\"       \n",
       "[12] \"strongest_nonoverlapping_eval\"                \n",
       "[13] \"overlapping_orf_strongest_nonoverlapping_eval\"\n",
       "[14] \"rfc_comparison\"                               \n",
       "[15] \"nonoverlapping_blast_conservation\"            \n",
       "[16] \"is_conserved\"                                 "
      ]
     },
     "metadata": {},
     "output_type": "display_data"
    }
   ],
   "source": [
    "overlapping_annotated%>%colnames"
   ]
  },
  {
   "cell_type": "code",
   "execution_count": 41,
   "metadata": {},
   "outputs": [],
   "source": [
    "carly_orfs_including_multiple_exons = carly_orfs_mutated%>%\n",
    "    bind_rows(missing_genes_eval%>%\n",
    "              mutate(possibly_conserved = (strongest_hit_eval <=1e-4 | \n",
    "                     distant_homolog_blastp_eval <= 1e-4) & (orf_classification%in%c(\"Verified\",'Uncharacterized')), \n",
    "                     possibly_denovo=F,\n",
    "                     orf_class=orf_classification))%>%\n",
    "    left_join(overlapping_annotated%>%\n",
    "              select(Name,is_conserved_with_overlap=is_conserved) %>%\n",
    "              distinct(), by=c(\"gene\"=\"Name\"))%>%\n",
    "    mutate(possibly_conserved = ifelse(is.na(is_conserved_with_overlap)==F & \n",
    "                                       distant_homolog_blastp_eval > 1e-4 & (orf_classification%in%c(\"Verified\",\"Uncharacterized\")), \n",
    "                                       is_conserved_with_overlap==1,\n",
    "                                       possibly_conserved),\n",
    "          possibly_denovo = ifelse(possibly_conserved, F, possibly_denovo))\n",
    "\n",
    "    #drop_na(is_conserved_with_overlap)%>%filter(possibly_conserved!=is_conserved_with_overlap)\n"
   ]
  },
  {
   "cell_type": "code",
   "execution_count": 42,
   "metadata": {
    "tags": []
   },
   "outputs": [
    {
     "data": {
      "text/plain": [
       "                  possibly_denovo\n",
       "possibly_conserved  FALSE   TRUE\n",
       "             FALSE 252661   8638\n",
       "             TRUE    5688      0"
      ]
     },
     "metadata": {},
     "output_type": "display_data"
    }
   ],
   "source": [
    "carly_orfs_including_multiple_exons%>%\n",
    "select(possibly_conserved,possibly_denovo)%>%\n",
    "table\n"
   ]
  },
  {
   "cell_type": "code",
   "execution_count": 43,
   "metadata": {},
   "outputs": [],
   "source": [
    "coexpression_orf_list <- carly_orfs_including_multiple_exons%>%\n",
    "    mutate(classification=case_when(\n",
    "        possibly_denovo ~ 'denovo',\n",
    "        possibly_conserved ~ 'conserved',\n",
    "        possibly_denovo==FALSE & possibly_conserved==FALSE & orf_class=='None' & qval >0.5 & is_candidate==1~ 'intergenic' ,\n",
    "        TRUE ~ 'other'\n",
    "    ))"
   ]
  },
  {
   "cell_type": "code",
   "execution_count": 44,
   "metadata": {},
   "outputs": [
    {
     "data": {
      "text/plain": [
       ".\n",
       " conserved     denovo intergenic      other \n",
       "      5688       8638     109244     143417 "
      ]
     },
     "metadata": {},
     "output_type": "display_data"
    }
   ],
   "source": [
    "coexpression_orf_list$classification%>%table"
   ]
  },
  {
   "cell_type": "code",
   "execution_count": 539,
   "metadata": {},
   "outputs": [
    {
     "data": {
      "text/plain": [
       ".\n",
       " conserved     denovo intergenic      other \n",
       "      5877       8636     109244     143230 "
      ]
     },
     "metadata": {},
     "output_type": "display_data"
    }
   ],
   "source": [
    "coexpression_orf_list$classification%>%table"
   ]
  },
  {
   "cell_type": "code",
   "execution_count": 46,
   "metadata": {},
   "outputs": [
    {
     "data": {
      "text/html": [
       "-187"
      ],
      "text/latex": [
       "-187"
      ],
      "text/markdown": [
       "-187"
      ],
      "text/plain": [
       "[1] -187"
      ]
     },
     "metadata": {},
     "output_type": "display_data"
    }
   ],
   "source": [
    "143230-143417"
   ]
  },
  {
   "cell_type": "code",
   "execution_count": null,
   "metadata": {},
   "outputs": [
    {
     "data": {
      "text/plain": [
       "                           classification\n",
       "orf_class                   conserved denovo intergenic  other\n",
       "  Dubious                           0     85          0    595\n",
       "  None                              0   8461     109244 142654\n",
       "  pseudogene                        0      0          0      9\n",
       "  transposable_element_gene        47      0          0      0\n",
       "  Uncharacterized                 495     88          0    142\n",
       "  Verified                       5146      4          0     17"
      ]
     },
     "metadata": {},
     "output_type": "display_data"
    }
   ],
   "source": [
    "coexpression_orf_list%>%select(orf_class,classification)%>%table"
   ]
  },
  {
   "cell_type": "code",
   "execution_count": 540,
   "metadata": {},
   "outputs": [
    {
     "data": {
      "text/plain": [
       "                           classification\n",
       "orf_class                   conserved denovo intergenic  other\n",
       "  Dubious                         181     84          0    415\n",
       "  None                              0   8460     109244 142655\n",
       "  pseudogene                        8      0          0      1\n",
       "  transposable_element_gene        47      0          0      0\n",
       "  Uncharacterized                 494     88          0    143\n",
       "  Verified                       5147      4          0     16"
      ]
     },
     "metadata": {},
     "output_type": "display_data"
    }
   ],
   "source": [
    "coexpression_orf_list%>%select(orf_class,classification)%>%table"
   ]
  },
  {
   "cell_type": "code",
   "execution_count": 557,
   "metadata": {},
   "outputs": [],
   "source": [
    "# coexpression_orf_list%>%filter(gene=='YCL058C')%>%select(gene,rfc,high_information, distant_homolog_evalue, scer_gene_eval, proven_denovo,classification, orf_coord_id)"
   ]
  },
  {
   "cell_type": "code",
   "execution_count": 482,
   "metadata": {},
   "outputs": [],
   "source": [
    "# coexpression_orf_list%>%filter(gene=='YBR196C-A')%>%select(gene,rfc,high_information, distant_homolog_evalue, scer_gene_eval, proven_denovo,classification)"
   ]
  },
  {
   "cell_type": "code",
   "execution_count": 484,
   "metadata": {},
   "outputs": [],
   "source": [
    "# coexpression_orf_list%>%filter(gene=='YNL269W')%>%select(gene,rfc,high_information, distant_homolog_evalue, scer_gene_eval, proven_denovo,classification, is_candidate,qval)"
   ]
  },
  {
   "cell_type": "code",
   "execution_count": 567,
   "metadata": {},
   "outputs": [],
   "source": [
    "# coexpression_orf_list%>%filter(gene=='YGL168W')%>%select(gene,rfc,high_information, distant_homolog_evalue, scer_gene_eval, proven_denovo,classification)"
   ]
  },
  {
   "cell_type": "code",
   "execution_count": 49,
   "metadata": {
    "tags": []
   },
   "outputs": [],
   "source": [
    "coexpression_orf_list_upload<- coexpression_orf_list %>%\n",
    "    mutate(chr_num = str_replace(chromosome, 'chr','')%>%gtools::roman2int(),\n",
    "        transcript = glue::glue(\"chr{chr_num}_{coor1}\"),\n",
    "        transcript_coor2 = glue::glue(\"chr{chr_num}_{coor2}\"),\n",
    "        orf_coord_id = glue::glue(\"chr{chr_num}_{coor1}_{coor2}_{strand}\"),\n",
    "           length = abs(coor2-coor1)+1,\n",
    "          gene = ifelse(is.na(aaron_orfid)==FALSE, gene, Name))\n"
   ]
  },
  {
   "cell_type": "code",
   "execution_count": 50,
   "metadata": {},
   "outputs": [],
   "source": [
    "denovo= coexpression_orf_list_upload%>%filter(classification=='denovo')%>%select(chromosome, coor1, coor2, orf_id, rfc, strand)#%>%write_tsv('../foo_denovo.bed', col_names = FALSE)"
   ]
  },
  {
   "cell_type": "code",
   "execution_count": 51,
   "metadata": {},
   "outputs": [],
   "source": [
    "conserved = coexpression_orf_list_upload%>%filter(classification=='conserved')%>%select(chromosome, coor1, coor2, orf_id, rfc, strand)#%>%write_tsv('../foo_conserved.bed', col_names = FALSE)"
   ]
  },
  {
   "cell_type": "code",
   "execution_count": 52,
   "metadata": {
    "tags": []
   },
   "outputs": [
    {
     "name": "stdout",
     "output_type": "stream",
     "text": [
      "[1] 1000\n",
      "[1] 2000\n",
      "[1] 3000\n",
      "[1] 4000\n",
      "[1] 5000\n",
      "[1] 6000\n",
      "[1] 7000\n",
      "[1] 8000\n"
     ]
    }
   ],
   "source": [
    "overlap_list = list()\n",
    "for(i in 1:nrow(denovo)){\n",
    "    if(i%%1000==0){\n",
    "        print(i)    \n",
    "    }\n",
    "    \n",
    "    res = conserved%>%filter(chromosome == denovo$chromosome[i], \n",
    "                       (coor1< denovo$coor1[i] & coor2 > denovo$coor1[i]) | \n",
    "                      (coor1< denovo$coor2[i] & coor2 > denovo$coor2[i]) |\n",
    "                      (coor1<denovo$coor2[i] & coor2 > denovo$coor1[i]), strand==denovo$strand[i])%>%select(orf_id)%>%pull()\n",
    "    if(length(res)>0){\n",
    "        overlap_list[[denovo$orf_id[i]]]=res\n",
    "    }\n",
    "    \n",
    "}\n",
    "coexpression_orf_list_upload<-coexpression_orf_list_upload%>%mutate(classification = ifelse(orf_id%in%names(overlap_list), 'other', classification))"
   ]
  },
  {
   "cell_type": "code",
   "execution_count": 53,
   "metadata": {},
   "outputs": [],
   "source": [
    "stop_position_same <- coexpression_orf_list_upload %>%\n",
    "    group_by(transcript_coor2)%>%filter(n()>1)"
   ]
  },
  {
   "cell_type": "code",
   "execution_count": 54,
   "metadata": {
    "tags": []
   },
   "outputs": [],
   "source": [
    "stop_position_same_to_remove = stop_position_same %>%\n",
    "select(transcript, transcript_coor2, gene, Name,classification, orf_coord_id,length)%>%\n",
    "filter(length==min(length))%>%ungroup()%>%select(orf_coord_id)%>%pull()"
   ]
  },
  {
   "cell_type": "code",
   "execution_count": 55,
   "metadata": {},
   "outputs": [],
   "source": [
    "start_position_same <- coexpression_orf_list_upload%>%group_by(transcript)%>%filter(n()>1)#%>%filter(gene%in%missing_genes$Name)"
   ]
  },
  {
   "cell_type": "code",
   "execution_count": 56,
   "metadata": {},
   "outputs": [],
   "source": [
    "start_position_same_to_remove <- start_position_same%>%\n",
    "select(transcript, transcript_coor2, gene, Name,classification, orf_coord_id,length)%>%\n",
    "filter(length==min(length))%>%\n",
    "ungroup()%>%\n",
    "select(orf_coord_id)%>%pull()"
   ]
  },
  {
   "cell_type": "code",
   "execution_count": 61,
   "metadata": {},
   "outputs": [],
   "source": [
    "coexpression_orf_list_upload$is_canonical = ifelse(coexpression_orf_list_upload$orf_class=='Verified' | coexpression_orf_list_upload$orf_class=='Uncharacterized' |coexpression_orf_list_upload$orf_class=='transposable_element_gene',\n",
    "                                                  'canonical','noncanonical')"
   ]
  },
  {
   "cell_type": "code",
   "execution_count": 67,
   "metadata": {
    "tags": []
   },
   "outputs": [],
   "source": [
    "coexpression_orf_list_upload_final<-coexpression_orf_list_upload%>%filter(orf_coord_id%in%c(start_position_same_to_remove,stop_position_same_to_remove)==F)\n"
   ]
  },
  {
   "cell_type": "code",
   "execution_count": 85,
   "metadata": {},
   "outputs": [],
   "source": [
    "coexpression_orf_list_upload_final%>%\n",
    "filter(is_canonical=='canonical' | qval<0.05)%>%\n",
    "#mutate(classification = ifelse(orf_id %in% names(overlap_list), \"other\", classification))%>%\n",
    "    select(orf_id, chromosome , coor1, coor2, strand, chr_num, aaron_orfid, orf_coord_id, classification,is_canonical, gene,transcript, orf_class, qval, pval)%>%\n",
    "     DBI::dbWriteTable(con,'coexpressionOrfList_blaste4',., overwrite=T)"
   ]
  },
  {
   "cell_type": "code",
   "execution_count": 87,
   "metadata": {},
   "outputs": [
    {
     "data": {
      "text/plain": [
       ".\n",
       " conserved     denovo intergenic      other \n",
       "      5687       8625     109244     142936 "
      ]
     },
     "metadata": {},
     "output_type": "display_data"
    }
   ],
   "source": [
    "coexpression_orf_list_upload_final$classification%>%table"
   ]
  },
  {
   "cell_type": "code",
   "execution_count": 595,
   "metadata": {},
   "outputs": [
    {
     "data": {
      "text/plain": [
       ".\n",
       " conserved     denovo intergenic      other \n",
       "      5877       8616     109244     143250 "
      ]
     },
     "metadata": {},
     "output_type": "display_data"
    }
   ],
   "source": [
    "coexpression_orf_list_upload$classification%>%table"
   ]
  },
  {
   "cell_type": "code",
   "execution_count": 70,
   "metadata": {},
   "outputs": [
    {
     "data": {
      "text/plain": [
       "                           classification\n",
       "orf_class                   conserved denovo intergenic  other\n",
       "  Dubious                           0     85          0    593\n",
       "  None                              0   8448     109244 142175\n",
       "  pseudogene                        0      0          0      9\n",
       "  transposable_element_gene        47      0          0      0\n",
       "  Uncharacterized                 494     88          0    142\n",
       "  Verified                       5146      4          0     17"
      ]
     },
     "metadata": {},
     "output_type": "display_data"
    }
   ],
   "source": [
    "coexpression_orf_list_upload_final%>%select(orf_class,classification)%>%table"
   ]
  },
  {
   "cell_type": "code",
   "execution_count": 71,
   "metadata": {},
   "outputs": [
    {
     "data": {
      "text/plain": [
       ", , is_canonical = canonical\n",
       "\n",
       "                           classification\n",
       "orf_class                   conserved denovo intergenic  other\n",
       "  Dubious                           0      0          0      0\n",
       "  None                              0      0          0      0\n",
       "  pseudogene                        0      0          0      0\n",
       "  transposable_element_gene        47      0          0      0\n",
       "  Uncharacterized                 494     88          0    142\n",
       "  Verified                       5146      4          0     17\n",
       "\n",
       ", , is_canonical = noncanonical\n",
       "\n",
       "                           classification\n",
       "orf_class                   conserved denovo intergenic  other\n",
       "  Dubious                           0     85          0    593\n",
       "  None                              0   8448     109244 142175\n",
       "  pseudogene                        0      0          0      9\n",
       "  transposable_element_gene         0      0          0      0\n",
       "  Uncharacterized                   0      0          0      0\n",
       "  Verified                          0      0          0      0\n"
      ]
     },
     "metadata": {},
     "output_type": "display_data"
    }
   ],
   "source": [
    "coexpression_orf_list_upload_final%>%select(orf_class,classification,is_canonical)%>%table"
   ]
  },
  {
   "cell_type": "code",
   "execution_count": 75,
   "metadata": {},
   "outputs": [
    {
     "data": {
      "text/plain": [
       "                           classification\n",
       "orf_class                   conserved denovo other\n",
       "  Dubious                           0     85   145\n",
       "  None                              0   8448 11847\n",
       "  pseudogene                        0      0     5\n",
       "  transposable_element_gene        47      0     0\n",
       "  Uncharacterized                 494     88    28\n",
       "  Verified                       5146      4     5"
      ]
     },
     "metadata": {},
     "output_type": "display_data"
    }
   ],
   "source": [
    "coexpression_orf_list_upload_final%>%filter(classification=='conserved' | qval<0.05)%>%select(orf_class,classification)%>%table"
   ]
  },
  {
   "cell_type": "code",
   "execution_count": 79,
   "metadata": {},
   "outputs": [
    {
     "data": {
      "text/plain": [
       "                           classification\n",
       "orf_class                   conserved denovo other\n",
       "  Dubious                           0     85   145\n",
       "  None                              0   8448 11847\n",
       "  pseudogene                        0      0     5\n",
       "  transposable_element_gene        47      0     0\n",
       "  Uncharacterized                 494     88   142\n",
       "  Verified                       5146      4    17"
      ]
     },
     "metadata": {},
     "output_type": "display_data"
    }
   ],
   "source": [
    "coexpression_orf_list_upload_final%>%filter(is_canonical=='canonical' | qval<0.05)%>%select(orf_class,classification)%>%table"
   ]
  },
  {
   "cell_type": "code",
   "execution_count": 76,
   "metadata": {},
   "outputs": [
    {
     "data": {
      "text/plain": [
       "                           classification\n",
       "orf_class                   conserved denovo other\n",
       "  Dubious                           0     85   145\n",
       "  None                              0   8448 11847\n",
       "  pseudogene                        0      0     5\n",
       "  transposable_element_gene        20      0     0\n",
       "  Uncharacterized                 414     88    28\n",
       "  Verified                       4855      4     5"
      ]
     },
     "metadata": {},
     "output_type": "display_data"
    }
   ],
   "source": [
    "coexpression_orf_list_upload_final%>%filter(qval<0.05)%>%select(orf_class,classification)%>%table"
   ]
  },
  {
   "cell_type": "code",
   "execution_count": 568,
   "metadata": {},
   "outputs": [],
   "source": [
    "system(\"jupyter nbconvert 42-get-gene-list-categories.ipynb --to html_toc --ExtractOutputPreprocessor.enabled=False\")"
   ]
  },
  {
   "cell_type": "code",
   "execution_count": null,
   "metadata": {},
   "outputs": [],
   "source": []
  }
 ],
 "metadata": {
  "kernelspec": {
   "display_name": "R",
   "language": "R",
   "name": "ir"
  },
  "language_info": {
   "codemirror_mode": "r",
   "file_extension": ".r",
   "mimetype": "text/x-r-source",
   "name": "R",
   "pygments_lexer": "r",
   "version": "4.1.2"
  }
 },
 "nbformat": 4,
 "nbformat_minor": 4
}
